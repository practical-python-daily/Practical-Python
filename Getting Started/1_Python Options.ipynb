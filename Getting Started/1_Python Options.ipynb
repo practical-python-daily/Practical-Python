{
 "cells": [
  {
   "cell_type": "markdown",
   "metadata": {},
   "source": [
    "# Options for Installing Python"
   ]
  },
  {
   "cell_type": "markdown",
   "metadata": {},
   "source": [
    "Directly from the source!<br>\n",
    "https://www.python.org/downloads/\n",
    "\n",
    "Anaconda Python:<br>\n",
    "https://www.anaconda.com/products/individual\n",
    "\n",
    "Others..."
   ]
  },
  {
   "cell_type": "markdown",
   "metadata": {},
   "source": [
    "# Options for writing code and running Python!"
   ]
  },
  {
   "cell_type": "markdown",
   "metadata": {},
   "source": [
    "1. Command Line (the simplest to get started with single lines)\n",
    "    1. Start menu > type `cmd` to open a command line window\n",
    "    1. type `python`\n",
    "    1. The Python kernel is started!\n"
   ]
  },
  {
   "cell_type": "markdown",
   "metadata": {},
   "source": [
    "2. Any text editor (good for writing longer multi-line scripts)\n",
    "    1. Open any text editor (e.g. Notepad, Notepad++)\n",
    "    1. Save the file as `MyPythonScript.py`\n",
    "    1. Write code in text file\n",
    "    1. Execute it from the command line `python MyPythonScript.py`"
   ]
  },
  {
   "cell_type": "markdown",
   "metadata": {},
   "source": [
    "3. Jupyter Notebooks (Interactive block based scripting)\n",
    "    1. From a command line, type `jupyter notebook`\n",
    "    1. If this gives you an error, you may need to install Jupyter... type `pip install jupyter`, then try step 1 again\n",
    "    1. This opens a new windown in the default web-browser (can be changed)\n",
    "    1. On the upper right, find the *New* menu item; select *Python 3*\n",
    "    1. A new 'Notebook' will open.\n",
    "    1. Type code in boxes; execute with `CTRL + Enter`"
   ]
  },
  {
   "cell_type": "markdown",
   "metadata": {},
   "source": [
    "4. Jupyter Lab (my preferred approach for many reasons)\n",
    "    1. From a command line, type `jupyter lab`\n",
    "    1. If it doesn't work, then you may need to install Jupyter Lab; type `pip install jupyterlab', then try step 1 again.\n",
    "    1. In the Launcher window, click *Python3* to start a new notebook.\n",
    "    1. Type code in the boxes; execute with `CTRL + Enter`"
   ]
  },
  {
   "cell_type": "code",
   "execution_count": null,
   "metadata": {},
   "outputs": [],
   "source": []
  }
 ],
 "metadata": {
  "kernelspec": {
   "display_name": "Python 3",
   "language": "python",
   "name": "python3"
  },
  "language_info": {
   "codemirror_mode": {
    "name": "ipython",
    "version": 3
   },
   "file_extension": ".py",
   "mimetype": "text/x-python",
   "name": "python",
   "nbconvert_exporter": "python",
   "pygments_lexer": "ipython3",
   "version": "3.7.3"
  }
 },
 "nbformat": 4,
 "nbformat_minor": 4
}
